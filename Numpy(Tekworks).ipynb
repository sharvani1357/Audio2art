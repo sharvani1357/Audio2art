{
  "nbformat": 4,
  "nbformat_minor": 0,
  "metadata": {
    "colab": {
      "provenance": [],
      "authorship_tag": "ABX9TyMmY1lTmGXRmMg/cBjVVUkk",
      "include_colab_link": true
    },
    "kernelspec": {
      "name": "python3",
      "display_name": "Python 3"
    },
    "language_info": {
      "name": "python"
    }
  },
  "cells": [
    {
      "cell_type": "markdown",
      "metadata": {
        "id": "view-in-github",
        "colab_type": "text"
      },
      "source": [
        "<a href=\"https://colab.research.google.com/github/sharvani1357/Audio2art/blob/main/Numpy(Tekworks).ipynb\" target=\"_parent\"><img src=\"https://colab.research.google.com/assets/colab-badge.svg\" alt=\"Open In Colab\"/></a>"
      ]
    },
    {
      "cell_type": "code",
      "execution_count": 1,
      "metadata": {
        "colab": {
          "base_uri": "https://localhost:8080/"
        },
        "id": "86dreMFbB5Qu",
        "outputId": "c2d00202-a6dd-43a1-f523-c0a6f5d088c3"
      },
      "outputs": [
        {
          "output_type": "stream",
          "name": "stdout",
          "text": [
            "Requirement already satisfied: numpy in /usr/local/lib/python3.12/dist-packages (2.0.2)\n"
          ]
        }
      ],
      "source": [
        "pip install numpy"
      ]
    },
    {
      "cell_type": "markdown",
      "source": [],
      "metadata": {
        "id": "A8F2H6KlC5LB"
      }
    },
    {
      "cell_type": "code",
      "source": [
        "import numpy as np"
      ],
      "metadata": {
        "id": "g26RrDLGC7Y6"
      },
      "execution_count": 3,
      "outputs": []
    },
    {
      "cell_type": "markdown",
      "source": [
        "Creating Arrays\n"
      ],
      "metadata": {
        "id": "J9gS2tOmDG6G"
      }
    },
    {
      "cell_type": "code",
      "source": [
        "arr_1d=np.array([1,2,3])\n",
        "print(arr_1d)"
      ],
      "metadata": {
        "colab": {
          "base_uri": "https://localhost:8080/"
        },
        "id": "Q6_02h_cDLZe",
        "outputId": "98fc1b16-cf3a-4c91-b099-ca458215de3f"
      },
      "execution_count": 4,
      "outputs": [
        {
          "output_type": "stream",
          "name": "stdout",
          "text": [
            "[1 2 3]\n"
          ]
        }
      ]
    },
    {
      "cell_type": "code",
      "source": [
        "arr_2d=np.array([[1,2,3],[4,5,6]])\n",
        "print(arr_2d)"
      ],
      "metadata": {
        "colab": {
          "base_uri": "https://localhost:8080/"
        },
        "id": "Bl-korUxDmZw",
        "outputId": "062c39eb-9b6f-4d2b-ed3a-bd6d2c8e85c2"
      },
      "execution_count": 5,
      "outputs": [
        {
          "output_type": "stream",
          "name": "stdout",
          "text": [
            "[[1 2 3]\n",
            " [4 5 6]]\n"
          ]
        }
      ]
    },
    {
      "cell_type": "code",
      "source": [
        "arr_3d=np.array([[[1,2,3],[4,5,6]],[[7,8,9],[10,11,12]]])\n",
        "arr=np.array(3)\n",
        "print(arr_3d)\n",
        "print(arr)\n",
        "\n",
        "print(arr.ndim)\n",
        "print(arr_1d.ndim)\n",
        "print(arr_2d.ndim)\n",
        "print(arr_3d.ndim)"
      ],
      "metadata": {
        "colab": {
          "base_uri": "https://localhost:8080/"
        },
        "id": "9q_xk93eD1J1",
        "outputId": "ed143063-aa24-4348-c5aa-af463f97154f"
      },
      "execution_count": 9,
      "outputs": [
        {
          "output_type": "stream",
          "name": "stdout",
          "text": [
            "[[[ 1  2  3]\n",
            "  [ 4  5  6]]\n",
            "\n",
            " [[ 7  8  9]\n",
            "  [10 11 12]]]\n",
            "3\n",
            "0\n",
            "1\n",
            "2\n",
            "3\n"
          ]
        }
      ]
    },
    {
      "cell_type": "markdown",
      "source": [
        "Using built-in functions\n"
      ],
      "metadata": {
        "id": "tQHXGEtfFd74"
      }
    },
    {
      "cell_type": "code",
      "source": [
        "#array of zeros\n",
        "zeros=np.zeros((2,3))\n",
        "print(zeros)\n",
        "\n",
        "#array of ones\n",
        "ones=np.ones((3,2))\n",
        "print(ones)\n",
        "\n",
        "#array of random values\n",
        "random_arr=np.random.random((2,2))\n",
        "print(random_arr)\n",
        "\n",
        "#identity matrix\n",
        "identity=np.identity(3)\n",
        "id2=np.eye(2)\n",
        "print(identity)\n",
        "print(id2)\n",
        "\n",
        "#array with a range of values\n",
        "range_arr=np.arange(0,10,2)#start,stop,step\n",
        "print(range_arr)\n"
      ],
      "metadata": {
        "colab": {
          "base_uri": "https://localhost:8080/"
        },
        "id": "5r8aTxtZFLPY",
        "outputId": "920c9d17-3c60-4387-f0b1-c33948cdf58f"
      },
      "execution_count": 12,
      "outputs": [
        {
          "output_type": "stream",
          "name": "stdout",
          "text": [
            "[[0. 0. 0.]\n",
            " [0. 0. 0.]]\n",
            "[[1. 1.]\n",
            " [1. 1.]\n",
            " [1. 1.]]\n",
            "[[0.65112938 0.87975615]\n",
            " [0.54611485 0.9952782 ]]\n",
            "[[1. 0. 0.]\n",
            " [0. 1. 0.]\n",
            " [0. 0. 1.]]\n",
            "[[1. 0.]\n",
            " [0. 1.]]\n",
            "[0 2 4 6 8]\n"
          ]
        }
      ]
    },
    {
      "cell_type": "markdown",
      "source": [
        "Array Attributes"
      ],
      "metadata": {
        "id": "vB4tCow6Hv0h"
      }
    },
    {
      "cell_type": "code",
      "source": [
        "arr=np.array([[1,2,3],[4,5,6]])\n",
        "print(\"shape:\",arr.shape)\n",
        "print(\"size:\",arr.size)\n",
        "print(\"Data Type:\",arr.dtype)\n",
        "print(\"no.of dimensions:\",arr.ndim)"
      ],
      "metadata": {
        "colab": {
          "base_uri": "https://localhost:8080/"
        },
        "id": "3bxbOx3zHzlh",
        "outputId": "6d160082-0e07-467f-afee-79c69b0900c2"
      },
      "execution_count": 13,
      "outputs": [
        {
          "output_type": "stream",
          "name": "stdout",
          "text": [
            "shape: (2, 3)\n",
            "size: 6\n",
            "Data Type: int64\n",
            "no.of dimensions: 2\n"
          ]
        }
      ]
    },
    {
      "cell_type": "markdown",
      "source": [
        "You are working as a Data Engineer for a smart agriculture startup that collects sensor data from multiple greenhouses.\n",
        "\n",
        "Each greenhouse has sensors that record temperature (°C) readings at different times of the day.\n",
        "You received the following data:\n",
        "Your tasks are:\n",
        "Create NumPy arrays\n",
        "Create a 2D NumPy array named temp_data to represent the temperature readings from both greenhouses.\n",
        "Print the array.\n",
        "Check array properties\n",
        "Print the shape, size, data type, and number of dimensions of temp_data.\n",
        "Add a third greenhouse\n",
        "The third greenhouse (GH3) records [21, 23, 22].\n",
        "Create a new array updated_temp_data that includes all three greenhouses.\n",
        "Generate supporting data\n",
        "Create a zeros array (2×3) called sensor_error_flags to represent whether there were any sensor errors (0 means no error).\n",
        "Create an identity matrix of size 3×3 named greenhouse_identity to uniquely identify each greenhouse.\n",
        "Display all arrays\n",
        "Print updated_temp_data, sensor_error_flags, and greenhouse_identity."
      ],
      "metadata": {
        "id": "z8Zm4oWEJ6JK"
      }
    },
    {
      "cell_type": "code",
      "source": [
        "temp_data=np.array([[22,25,20],[24,26,23]])\n",
        "print(temp_data)\n",
        "print(\"shape:\",temp_data.shape)\n",
        "print(\"size:\",temp_data.size)\n",
        "print(\"data type:\",temp_data.dtype)\n",
        "print(\"no of dimensions:\",temp_data.ndim)\n",
        "updated_temp_data=np.array([[22,25,20],[24,26,23],[21,23,22]])\n",
        "sensor_error_flags=np.zeros((2,3))\n",
        "greenhouse_identity=np.eye((3))\n",
        "print(updated_temp_data)\n",
        "print(sensor_error_flags)\n",
        "print(greenhouse_identity)\n",
        "\n"
      ],
      "metadata": {
        "colab": {
          "base_uri": "https://localhost:8080/"
        },
        "id": "K12kpS6MJ7Dz",
        "outputId": "4ad7da08-c13e-4f69-c7d4-9b3f11ca5367"
      },
      "execution_count": 15,
      "outputs": [
        {
          "output_type": "stream",
          "name": "stdout",
          "text": [
            "[[22 25 20]\n",
            " [24 26 23]]\n",
            "shape: (2, 3)\n",
            "size: 6\n",
            "data type: int64\n",
            "no of dimensions: 2\n",
            "[[22 25 20]\n",
            " [24 26 23]\n",
            " [21 23 22]]\n",
            "[[0. 0. 0.]\n",
            " [0. 0. 0.]]\n",
            "[[1. 0. 0.]\n",
            " [0. 1. 0.]\n",
            " [0. 0. 1.]]\n"
          ]
        }
      ]
    },
    {
      "cell_type": "markdown",
      "source": [
        "Indexing and slicing"
      ],
      "metadata": {
        "id": "LdFcwggGMhf-"
      }
    },
    {
      "cell_type": "code",
      "source": [
        "#indexing\n",
        "arr=np.array([[1,2,3],[34,35,56]])\n",
        "print(arr)\n",
        "print(arr[0,1])\n",
        "print(arr[1,-1])\n",
        "print(arr[0,-1])\n",
        "\n",
        "#slicing\n",
        "print(arr[0:,])\n",
        "print(arr[0:2,1:3])"
      ],
      "metadata": {
        "colab": {
          "base_uri": "https://localhost:8080/"
        },
        "id": "_5-3k2LMMl4R",
        "outputId": "204e5bd2-c393-4b95-d39f-00fa525c14c4"
      },
      "execution_count": 21,
      "outputs": [
        {
          "output_type": "stream",
          "name": "stdout",
          "text": [
            "[[ 1  2  3]\n",
            " [34 35 56]]\n",
            "2\n",
            "56\n",
            "3\n",
            "[[ 1  2  3]\n",
            " [34 35 56]]\n",
            "[[ 2  3]\n",
            " [35 56]]\n"
          ]
        }
      ]
    },
    {
      "cell_type": "markdown",
      "source": [
        "Indexing and Slicing:\n",
        "You are working as a Data Analyst at a fruit distribution company.\n",
        "The company stores the number of fruit boxes shipped per day (for 1 week) in a 2D NumPy array where:\n",
        "Each row represents a type of fruit.\n",
        "Each column represents a day of the week (Mon–Sun).\n",
        "\n",
        "\n",
        "Indexing and Slicing:\n",
        "You are working as a Data Analyst at a fruit distribution company.\n",
        "\n",
        "The company stores the number of fruit boxes shipped per day (for 1 week) in a 2D NumPy array where:\n",
        "Each row represents a type of fruit.\n",
        "Each column represents a day of the week (Mon–Sun).\n",
        "\n",
        "\n",
        "Your Tasks\n",
        "Create the 2D NumPy array\n",
        "\n",
        "Create an array named shipments using the above data.\n",
        "Access single elements (Indexing):\n",
        "Get the number of Apples shipped on Wednesday.\n",
        "Get the number of Oranges shipped on Sunday.\n",
        "Access multiple elements (Slicing):\n",
        "Extract all the weekday shipments (Mon–Fri) for all fruits.\n",
        "Extract only the weekend shipments (Sat & Sun).\n",
        "Extract the shipments of Apples from Wednesday to Saturday.\n",
        "Bonus (Practice thinking):\n",
        "Replace the Saturday shipment of Apples (currently 80) with 100 using indexing.\n",
        ""
      ],
      "metadata": {
        "id": "UEzRGE8SQK4a"
      }
    },
    {
      "cell_type": "code",
      "source": [
        "shipments=np.array([[50,60,55,70,65,80,90],[40,45,50,60,55,70,75]])\n",
        "print(\"no of apples on wed:\",(arr[0,2]))\n",
        "print(\"oranges on sun:\",(arr[1,-1]))\n",
        "print(\"weekday shipments (Mon–Fri) for all fruits:\",(arr[0:2,0:5]))\n",
        "print(\"weekend shipments (Sat & Sun):\",(arr[0:2,5:7]))\n",
        "print(\"Apples from Wednesday to Saturday:\",(arr[0:,2:6]))\n",
        "shipments[0,5]=100\n",
        "print(shipments)\n",
        "\n",
        "\n"
      ],
      "metadata": {
        "colab": {
          "base_uri": "https://localhost:8080/"
        },
        "id": "JJWAHk0dQOO9",
        "outputId": "3d181857-0add-44e1-dfd8-b09516b27027"
      },
      "execution_count": 23,
      "outputs": [
        {
          "output_type": "stream",
          "name": "stdout",
          "text": [
            "no of apples on wed: 3\n",
            "oranges on sun: 56\n",
            "weekday shipments (Mon–Fri) for all fruits: [[ 1  2  3]\n",
            " [34 35 56]]\n",
            "weekend shipments (Sat & Sun): []\n",
            "Apples from Wednesday to Saturday: [[ 3]\n",
            " [56]]\n",
            "[[ 50  60  55  70  65 100  90]\n",
            " [ 40  45  50  60  55  70  75]]\n"
          ]
        }
      ]
    },
    {
      "cell_type": "markdown",
      "source": [
        "Array Operations"
      ],
      "metadata": {
        "id": "SDnPnCW3WxCr"
      }
    },
    {
      "cell_type": "code",
      "source": [
        "#Arthimetic\n",
        "a=np.array([1,2,3])\n",
        "b=np.array([4,5,6])\n",
        "\n",
        "print(\"addition:\",a+b)\n",
        "print(\"mul\",a*b)\n",
        "print(\"scalar\",a*2)\n",
        "print(\"sub\",a-b)\n",
        "print(\"div\",a/b)\n",
        "print(\"floor div\",a//b)\n",
        "print(\"mod\",a%b)\n",
        "\n",
        "#matrix multiplication\n",
        "mat1=np.array([[2,3],[5,6]])\n",
        "mat2=np.array([[7,8],[9,6]])\n",
        "result=np.dot(mat1,mat2)\n",
        "print(result)\n"
      ],
      "metadata": {
        "colab": {
          "base_uri": "https://localhost:8080/"
        },
        "id": "dtkrElHqWzds",
        "outputId": "5fed2951-3613-4cb3-c695-f3d21491d935"
      },
      "execution_count": 27,
      "outputs": [
        {
          "output_type": "stream",
          "name": "stdout",
          "text": [
            "addition: [5 7 9]\n",
            "mul [ 4 10 18]\n",
            "scalar [2 4 6]\n",
            "sub [-3 -3 -3]\n",
            "div [0.25 0.4  0.5 ]\n",
            "floor div [0 0 0]\n",
            "mod [1 2 3]\n",
            "[[41 34]\n",
            " [89 76]]\n"
          ]
        }
      ]
    },
    {
      "cell_type": "markdown",
      "source": [
        "Broadcasting:\n",
        "Numpy automatically applies operations across arrays of different shapes when compatible"
      ],
      "metadata": {
        "id": "8xN5b52zYnBK"
      }
    },
    {
      "cell_type": "code",
      "source": [
        "a=np.array([1,2,3])\n",
        "b=2\n",
        "print(a+b)"
      ],
      "metadata": {
        "colab": {
          "base_uri": "https://localhost:8080/"
        },
        "id": "4SrloXHvYpzs",
        "outputId": "c95a1359-67ea-4801-83bb-390318ca4307"
      },
      "execution_count": 28,
      "outputs": [
        {
          "output_type": "stream",
          "name": "stdout",
          "text": [
            "[3 4 5]\n"
          ]
        }
      ]
    },
    {
      "cell_type": "markdown",
      "source": [
        "Universal Functions(ufuncs)\n",
        "\n",
        "1. Arithmetic ufuncs\n",
        "Operate element-wise on arrays.\n",
        "np.add(x, y)\n",
        "np.subtract(x, y)\n",
        "np.multiply(x, y)\n",
        "np.divide(x, y)\n",
        "np.power(x, y)\n",
        "np.mod(x, y)\n",
        "🔹 2. Exponential and Logarithmic ufuncs\n",
        "(You already covered these)\n",
        "np.exp(x)\n",
        "np.log(x)\n",
        "np.log10(x)\n",
        "np.log2(x)\n",
        "np.expm1(x)    # exp(x) - 1\n",
        "🔹 3. Trigonometric ufuncs\n",
        "np.sin(x)\n",
        "np.cos(x)\n",
        "np.tan(x)\n",
        "np.arcsin(x)\n",
        "np.arccos(x)\n",
        "np.arctan(x)\n",
        "np.degrees(x)\n",
        "np.radians(x)\n",
        "🔹 4. Rounding ufuncs\n",
        "np.round(x)\n",
        "np.floor(x)\n",
        "np.ceil(x)\n",
        "np.trunc(x)\n",
        "🔹 5. Statistical ufuncs\n",
        "(Operate along an axis or entire array)\n",
        "np.min(x)\n",
        "np.max(x)\n",
        "np.mean(x)\n",
        "np.std(x)\n",
        "np.var(x)\n",
        "np.sum(x)\n",
        "np.prod(x)\n",
        "🔹 6. Logical ufuncs\n",
        "np.logical_and(x, y)\n",
        "np.logical_or(x, y)\n",
        "np.logical_not(x)\n",
        "np.logical_xor(x, y)\n",
        "🔹 7. Comparison ufuncs\n",
        "(Return Boolean arrays)\n",
        "np.greater(x, y)\n",
        "np.less(x, y)\n",
        "np.equal(x, y)\n",
        "np.not_equal(x, y)\n",
        "np.greater_equal(x, y)\n",
        "np.less_equal(x, y)\n",
        "🔹 8. Bitwise ufuncs\n",
        "(Operate on integers)\n",
        "np.bitwise_and(x, y)\n",
        "np.bitwise_or(x, y)\n",
        "np.bitwise_xor(x, y)\n",
        "np.invert(x)"
      ],
      "metadata": {
        "id": "pl2rejN-ZwqX"
      }
    },
    {
      "cell_type": "markdown",
      "source": [],
      "metadata": {
        "id": "DVvdmLgMJ3tc"
      }
    },
    {
      "cell_type": "code",
      "source": [
        "#Exponentiation\n",
        "print(np.exp(arr))\n",
        "#square root\n",
        "print(np.sqrt(arr))\n",
        "#logarith\n",
        "print(np.log(arr))\n",
        "\n"
      ],
      "metadata": {
        "colab": {
          "base_uri": "https://localhost:8080/"
        },
        "id": "9YqvtO0jZSIj",
        "outputId": "4a1d07a5-b43c-47fa-a4a4-2f4c59733bac"
      },
      "execution_count": 31,
      "outputs": [
        {
          "output_type": "stream",
          "name": "stdout",
          "text": [
            "[[2.71828183e+00 7.38905610e+00 2.00855369e+01]\n",
            " [5.83461743e+14 1.58601345e+15 2.09165950e+24]]\n",
            "[[1.         1.41421356 1.73205081]\n",
            " [5.83095189 5.91607978 7.48331477]]\n",
            "[[0.         0.69314718 1.09861229]\n",
            " [3.52636052 3.55534806 4.02535169]]\n"
          ]
        }
      ]
    },
    {
      "cell_type": "markdown",
      "source": [
        "Aggregation Functions\n"
      ],
      "metadata": {
        "id": "Qg07lbsdbwYY"
      }
    },
    {
      "cell_type": "code",
      "source": [
        "arr=np.array([1,2,3,4])\n",
        "print(\"sum:\",np.sum(arr))\n",
        "print(\"mean:\",np.mean(arr))\n",
        "print(\"sd:\",np.std(arr))\n",
        "print(\"max:\",np.max(arr))\n",
        "print(\"min:\",np.min(arr))"
      ],
      "metadata": {
        "colab": {
          "base_uri": "https://localhost:8080/"
        },
        "id": "nHVPZcDYb01Q",
        "outputId": "4aa3416f-e9f7-4ec7-b780-077710f59770"
      },
      "execution_count": 32,
      "outputs": [
        {
          "output_type": "stream",
          "name": "stdout",
          "text": [
            "sum: 10\n",
            "mean: 2.5\n",
            "sd: 1.118033988749895\n",
            "max: 4\n",
            "min: 1\n"
          ]
        }
      ]
    },
    {
      "cell_type": "markdown",
      "source": [
        "You are a data engineer at a renewable-energy company that runs 3 solar farms.\n",
        "Each farm has 4 solar panels, and each panel reports hourly energy production (kWh) for 3 hours during a test window.\n",
        "\n",
        "Given data (raw)\n",
        "Create arrays from these values:\n",
        "production — shape (3 farms × 4 panels × 3 hours) represented as a 2D array per farm (you can stack/create as shown in tasks).\n",
        "Farm A panels (rows = panels, cols = hours):\n",
        "\n",
        "\n",
        "Tasks\n",
        "Create arrays\n",
        "Create three 2D NumPy arrays farmA, farmB, farmC (each shape (4,3)).\n",
        "Stack them into a single 3D array production_all of shape (3, 4, 3).\n",
        "Array attributes\n",
        "Print the .shape, .size, .dtype, and .ndim of production_all.\n",
        "Per-farm totals (arithmetic & aggregation)\n",
        "Use aggregation ufuncs to compute the total energy per farm (sum across panels & hours) → total_per_farm (shape (3,)).\n",
        "Compute mean, std, and var per farm.\n",
        "Per-hour matrix multiplication idea (matrix op)\n",
        "For a quick weighted estimate, create a hour_weights row vector of shape (3,) = [0.5, 1.0, 0.75] (weights for hour1, hour2, hour3).\n",
        "Compute weighted_per_panel by performing a dot product between each farm's panel-row and hour_weights to get per-panel weighted energy. (Use np.dot / matrix multiplication appropriately.)\n",
        "Broadcasting adjustments\n",
        "The operator notices a fixed calibration offset of +0.5 kWh for all panels in Farm B. Use broadcasting to add this offset to Farm B data inside production_all (without recreating whole array manually).\n",
        "Element-wise arithmetic (ufuncs: add/sub/mul/div/power/mod)\n",
        "Compute a normalized version where you:\n",
        "subtract the per-farm mean (use broadcasting),\n",
        "divide by the per-farm std (broadcasting) — i.e., z-score normalize each farm's panel-hour readings.\n",
        "Apply many ufuncs (use the ufuncs listed previously)\n",
        "Apply the following element-wise operations (create variables for each) on the normalized data (or a copy) and show the resulting arrays (or summaries — shape/dtype/first row) where appropriate:\n",
        "Exponential family: np.exp, np.expm1, np.log (note: handle non-positive inputs if needed), np.log10, np.log2.\n",
        "Trigonometric: np.sin, np.cos, np.tan, np.arcsin, np.arccos, np.arctan, plus np.degrees, np.radians applied appropriately.\n",
        "Rounding: np.round, np.floor, np.ceil, np.trunc.\n",
        "Comparison & logical ufuncs: create a boolean mask high_output = production_all > 20 and apply np.logical_and, np.logical_or, np.logical_not, np.logical_xor combining masks (e.g., high_output and even_hours_mask). Also use comparison ufuncs like np.greater_equal, np.less.\n",
        "Bitwise ufuncs (on integer arrays): create an integer array alerts = np.array([[1,0,1],[0,0,1],[1,1,0],[0,1,0]]) for each farm (shape match required) — then apply np.bitwise_and, np.bitwise_or, np.invert where sensible.\n",
        "Arithmetic ufuncs again: np.add, np.subtract, np.multiply, np.divide, np.power, np.mod.\n",
        "Aggregations over ufunc outputs: e.g., np.sum(np.exp(...)), np.mean(np.sin(...)).\n",
        "Broadcast-based summary table\n",
        "Use broadcasting to compute a (3,4) array panel_totals_per_farm = total per panel (sum across hours for each panel), and then compute a (3,) boolean needs_maintenance saying True if any panel in that farm has total < 40. Use np.min, np.max, np.any, np.all.\n",
        "Final KPIs (aggregation)\n",
        "Compute:\n",
        "overall_total (sum of all farms),\n",
        "peak_hour value (max across hours) and which farm & panel produced it (use np.argmax with careful unraveling),\n",
        "average_per_panel across all farms."
      ],
      "metadata": {
        "id": "uNFfzcfv8Pq3"
      }
    },
    {
      "cell_type": "code",
      "source": [
        "farmA=np.array([[10,12,11],[9,11,10],[12,13,14],[8,7,9]])\n",
        "farmB=np.array([[20,19,21],[18,20,19],[22,23,21],[17,18,16]])\n",
        "farmC=np.array([[15,16,14],[14,13,15],[16,17,18],[12,11,13]])\n",
        "#   Stack into 3D array\n",
        "production_all = np.array([farmA, farmB, farmC], dtype=float)\n",
        "\n",
        "# 2 Array attributes\n",
        "print(\"Shape:\", production_all.shape)\n",
        "print(\"Size:\", production_all.size)\n",
        "print(\"Dtype:\", production_all.dtype)\n",
        "print(\"No. of dimensions:\", production_all.ndim)\n",
        "\n",
        "# 3.Per-farm totals & statistics\n",
        "total_per_farm = np.sum(production_all, axis=(1,2))\n",
        "mean_per_farm = np.mean(production_all, axis=(1,2))\n",
        "std_overall = np.std(production_all)\n",
        "var_overall = np.var(production_all)\n",
        "\n",
        "print(\"\\nTotal energy per farm:\", total_per_farm)\n",
        "print(\"Mean energy per farm:\", mean_per_farm)\n",
        "print(\"Overall std:\", std_overall)\n",
        "print(\"Overall var:\", var_overall)\n",
        "\n",
        "# 4.Weighted per-panel (matrix multiplication)\n",
        "hour_weights = np.array([0.5,1.0,0.75])\n",
        "weighted_per_panel = np.dot(production_all, hour_weights)\n",
        "print(\"\\nWeighted energy per panel (shape):\", weighted_per_panel.shape)\n",
        "print(\"First farm weighted:\", weighted_per_panel[0])\n",
        "\n",
        "# 5.Add 0.5 kWh to Farm B (broadcast)\n",
        "production_all[1] += 0.5\n",
        "\n",
        "# 6.Z-score normalization per farm\n",
        "farm_means = np.mean(production_all, axis=(1,2), keepdims=True)\n",
        "farm_stds = np.std(production_all, axis=(1,2), keepdims=True)\n",
        "normalized = (production_all - farm_means)/farm_stds\n",
        "print(\"\\nNormalized shape:\", normalized.shape)\n",
        "print(\"First farm normalized first row:\", normalized[0,0])\n",
        "\n",
        "# 7.Exponential family ufuncs\n",
        "exp_data = np.exp(normalized)\n",
        "expm1_data = np.expm1(normalized)\n",
        "safe_norm = normalized - np.min(normalized) + 1e-5\n",
        "log_data = np.log(safe_norm)\n",
        "log10_data = np.log10(safe_norm)\n",
        "log2_data = np.log2(safe_norm)\n",
        "\n",
        "print(\"\\nExp first farm first row:\", exp_data[0,0])\n",
        "print(\"Log10 first farm first row:\", log10_data[0,0])\n",
        "\n",
        "# Trigonometric ufuncs\n",
        "sin_data = np.sin(normalized)\n",
        "cos_data = np.cos(normalized)\n",
        "tan_data = np.tan(normalized)\n",
        "clipped = np.clip(normalized, -1, 1)\n",
        "arcsin_data = np.arcsin(clipped)\n",
        "arccos_data = np.arccos(clipped)\n",
        "arctan_data = np.arctan(normalized)\n",
        "deg_data = np.degrees(normalized)\n",
        "rad_data = np.radians(normalized)\n",
        "\n",
        "print(\"\\nSin first farm first row:\", sin_data[0,0])\n",
        "print(\"Arcsin first farm first row:\", arcsin_data[0,0])\n",
        "\n",
        "#  Rounding ufuncs\n",
        "round_data = np.round(normalized)\n",
        "floor_data = np.floor(normalized)\n",
        "ceil_data = np.ceil(normalized)\n",
        "trunc_data = np.trunc(normalized)\n",
        "print(\"\\nRounded first farm first row:\", round_data[0,0])\n",
        "\n",
        "# Comparison & logical ufuncs\n",
        "high_output = production_all > 20\n",
        "even_hours_mask = (production_all % 2 == 0)\n",
        "and_mask = np.logical_and(high_output, even_hours_mask)\n",
        "or_mask = np.logical_or(high_output, even_hours_mask)\n",
        "\n",
        "print(\"\\nHigh output mask first farm:\", high_output[0])\n",
        "print(\"Logical AND mask first farm:\", and_mask[0])\n",
        "\n",
        "# Bitwise ufuncs\n",
        "alerts = np.array([\n",
        "    [[1,0,1],[0,0,1],[1,1,0],[0,1,0]],\n",
        "    [[1,1,0],[0,1,1],[1,0,0],[0,1,0]],\n",
        "    [[0,1,1],[1,0,1],[1,1,0],[1,0,0]]\n",
        "], dtype=np.int32)\n",
        "bit_and = np.bitwise_and(alerts, production_all.astype(int))\n",
        "bit_or = np.bitwise_or(alerts, production_all.astype(int))\n",
        "bit_invert = np.invert(alerts)\n",
        "print(\"\\nBitwise AND first farm first row:\", bit_and[0,0])\n",
        "\n",
        "# Arithmetic ufuncs\n",
        "add_data = np.add(production_all, 5)\n",
        "sub_data = np.subtract(production_all, 5)\n",
        "mul_data = np.multiply(production_all, 2)\n",
        "div_data = np.divide(production_all, 2)\n",
        "power_data = np.power(production_all, 2)\n",
        "mod_data = np.mod(production_all, 3)\n",
        "\n",
        "print(\"\\nAdd first farm first row:\", add_data[0,0])\n",
        "\n",
        "# Aggregations over ufunc outputs\n",
        "exp_sum = np.sum(np.exp(normalized))\n",
        "sin_mean = np.mean(np.sin(normalized))\n",
        "power_mean = np.mean(np.power(production_all, 2))\n",
        "print(\"\\nSum of exp(normalized):\", exp_sum)\n",
        "print(\"Mean of sin(normalized):\", sin_mean)\n",
        "print(\"Mean of production_all^2:\", power_mean)\n",
        "\n",
        "#  Broadcast-based summary table\n",
        "panel_totals_per_farm = np.sum(production_all, axis=2)\n",
        "needs_maintenance = np.any(panel_totals_per_farm < 40, axis=1)\n",
        "print(\"\\nPanel totals per farm (first farm first row):\", panel_totals_per_farm[0])\n",
        "print(\"Needs maintenance per farm:\", needs_maintenance)\n",
        "\n",
        "#  Final KPIs\n",
        "overall_total = np.sum(production_all)\n",
        "peak_hour_value = np.max(production_all)\n",
        "peak_index = np.argmax(production_all)\n",
        "peak_farm, peak_panel, peak_hour = np.unravel_index(peak_index, production_all.shape)\n",
        "average_per_panel = np.mean(production_all, axis=2)\n",
        "\n",
        "print(\"\\nOverall total energy:\", overall_total)\n",
        "print(f\"Peak hour value: {peak_hour_value} (Farm {peak_farm}, Panel {peak_panel}, Hour {peak_hour})\")\n",
        "print(\"Average per panel across hours (first farm):\", average_per_panel[0])\n",
        "\n",
        "\n",
        "\n",
        "\n",
        "\n",
        "\n",
        "\n",
        "\n",
        "\n"
      ],
      "metadata": {
        "colab": {
          "base_uri": "https://localhost:8080/"
        },
        "id": "sQKq1vncd4uS",
        "outputId": "a4ee3b88-fc5b-48f0-b67d-406647a1930f"
      },
      "execution_count": 50,
      "outputs": [
        {
          "output_type": "stream",
          "name": "stdout",
          "text": [
            "Shape: (3, 4, 3)\n",
            "Size: 36\n",
            "Dtype: float64\n",
            "No. of dimensions: 3\n",
            "\n",
            "Total energy per farm: [126. 234. 174.]\n",
            "Mean energy per farm: [10.5 19.5 14.5]\n",
            "Overall std: 4.179978734661485\n",
            "Overall var: 17.472222222222225\n",
            "\n",
            "Weighted energy per panel (shape): (3, 4)\n",
            "First farm weighted: [25.25 23.   29.5  17.75]\n",
            "\n",
            "Normalized shape: (3, 4, 3)\n",
            "First farm normalized first row: [-0.25264558  0.75793673  0.25264558]\n",
            "\n",
            "Exp first farm first row: [0.77674313 2.13386893 1.2874269 ]\n",
            "Log10 first farm first row: [0.18066581 0.40251342 0.30560383]\n",
            "\n",
            "Sin first farm first row: [-0.24996642  0.68742445  0.24996642]\n",
            "Arcsin first farm first row: [-0.25541356  0.86014434  0.25541356]\n",
            "\n",
            "Rounded first farm first row: [-0.  1.  0.]\n",
            "\n",
            "High output mask first farm: [[False False False]\n",
            " [False False False]\n",
            " [False False False]\n",
            " [False False False]]\n",
            "Logical AND mask first farm: [[False False False]\n",
            " [False False False]\n",
            " [False False False]\n",
            " [False False False]]\n",
            "\n",
            "Bitwise AND first farm first row: [0 0 1]\n",
            "\n",
            "Add first farm first row: [15. 17. 16.]\n",
            "\n",
            "Sum of exp(normalized): 57.55695815214101\n",
            "Mean of sin(normalized): 6.1679056923619804e-18\n",
            "Mean of production_all^2: 244.08333333333334\n",
            "\n",
            "Panel totals per farm (first farm first row): [33. 30. 39. 24.]\n",
            "Needs maintenance per farm: [ True False  True]\n",
            "\n",
            "Overall total energy: 540.0\n",
            "Peak hour value: 23.5 (Farm 1, Panel 2, Hour 1)\n",
            "Average per panel across hours (first farm): [11. 10. 13.  8.]\n"
          ]
        }
      ]
    },
    {
      "cell_type": "markdown",
      "source": [
        "Stacking and Splitting"
      ],
      "metadata": {
        "id": "5o_uo9fk33gK"
      }
    },
    {
      "cell_type": "code",
      "source": [
        "a=np.array([1,2])\n",
        "b=np.array([3,4])\n",
        "#vertical stack\n",
        "print(np.vstack((a,b)))\n",
        "#horizontal stack\n",
        "print(np.hstack((a,b)))\n",
        "\n",
        "#splitting\n",
        "arr=np.array([1,2,3,4,5,6])\n",
        "#splitting into three parts\n",
        "print(np.array_split(arr,3))\n"
      ],
      "metadata": {
        "colab": {
          "base_uri": "https://localhost:8080/"
        },
        "id": "YgmrSJrU33O1",
        "outputId": "ede9dcd2-d137-4017-c096-ff62c41a749e"
      },
      "execution_count": 49,
      "outputs": [
        {
          "output_type": "stream",
          "name": "stdout",
          "text": [
            "[[1 2]\n",
            " [3 4]]\n",
            "[1 2 3 4]\n",
            "[array([1, 2]), array([3, 4]), array([5, 6])]\n"
          ]
        }
      ]
    },
    {
      "cell_type": "markdown",
      "source": [
        "Advanced Indexing"
      ],
      "metadata": {
        "id": "zYROwE__5dmC"
      }
    },
    {
      "cell_type": "code",
      "source": [
        "#boolean indexing\n",
        "arr=np.array([1,2,3,4,5])\n",
        "print(arr[arr>3])\n",
        "#fancy indexing\n",
        "arr=np.array([10,20,34,56])\n",
        "indices=[0,2]\n",
        "print(arr[indices])"
      ],
      "metadata": {
        "colab": {
          "base_uri": "https://localhost:8080/"
        },
        "id": "nPq0tsXq5jR8",
        "outputId": "892ba5b3-6e7e-4139-cfef-a03a77a6f2ea"
      },
      "execution_count": 53,
      "outputs": [
        {
          "output_type": "stream",
          "name": "stdout",
          "text": [
            "[4 5]\n",
            "[10 34]\n"
          ]
        }
      ]
    },
    {
      "cell_type": "markdown",
      "source": [
        "Copy vs view"
      ],
      "metadata": {
        "id": "24G58CKU6Eer"
      }
    },
    {
      "cell_type": "code",
      "source": [
        "#view shares memory\n",
        "arr=np.array([1,2,3])\n",
        "view=arr.view()\n",
        "view=arr.view()\n",
        "view[0]=10\n",
        "print(arr)\n",
        "\n",
        "#copy does not share memory\n",
        "copy=arr.copy()\n",
        "copy[0]=10\n",
        "print(arr)\n",
        "\n"
      ],
      "metadata": {
        "colab": {
          "base_uri": "https://localhost:8080/"
        },
        "id": "pF8oFZ1y6GXQ",
        "outputId": "4dd08beb-a7f6-4a23-e64d-205dc0496fdd"
      },
      "execution_count": 54,
      "outputs": [
        {
          "output_type": "stream",
          "name": "stdout",
          "text": [
            "[10  2  3]\n",
            "[10  2  3]\n"
          ]
        }
      ]
    },
    {
      "cell_type": "markdown",
      "source": [
        "Saving and Loading"
      ],
      "metadata": {
        "id": "mAzOAwMC6--Y"
      }
    },
    {
      "cell_type": "code",
      "source": [
        "#save a file\n",
        "arr=np.array([1,2,3])\n",
        "np.save('array.npy',arr)\n",
        "#load from a file\n",
        "loaded_arr=np.load('array.npy')\n",
        "print(loaded_arr)"
      ],
      "metadata": {
        "colab": {
          "base_uri": "https://localhost:8080/"
        },
        "id": "S8P99tfD7BOA",
        "outputId": "cf72116e-18fc-4b64-e544-083fa1a3e2c3"
      },
      "execution_count": 56,
      "outputs": [
        {
          "output_type": "stream",
          "name": "stdout",
          "text": [
            "[1 2 3]\n"
          ]
        }
      ]
    },
    {
      "cell_type": "markdown",
      "source": [
        "TasksArray Creation\n",
        "Create a 1D array of numbers from 10 to 50.\n",
        "Create a 3x3 array of random numbers between 0 and 1.\n",
        "Array Attributes\n",
        "Find the shape, size, and data type of the array you created in the previous task.\n",
        "Basic Operations\n",
        "Add 5 to every element of a 1D array.\n",
        "Multiply two 2D arrays element-wise.\n",
        "Indexing and Slicing\n",
        "Create a 5x5 array of integers from 1 to 25. Extract:\n",
        "The first row.\n",
        "The last column.\n",
        "A subarray of the first three rows and first two columns.\n",
        "Aggregation\n",
        "Create a 10-element array of random integers between 10 and 100. Find:\n",
        "The maximum value.\n",
        "The minimum value.\n",
        "The mean and standard deviation.\n",
        "Reshaping\n",
        "Convert a 1D array of numbers from 1 to 12 into a 3x4 matrix.\n",
        "Broadcasting\n",
        "Create a 3x3 matrix of ones. Add a 1D array [1, 2, 3] to each row.\n",
        "Filtering\n",
        "Create a 1D array of random integers between 1 and 50. Extract all elements that are divisible by 5.\n",
        "Matrix Multiplication\n",
        "Create two 2x2 matrices and perform matrix multiplication.\n",
        "Advanced Indexing\n",
        "Given a 4x4 array, use fancy indexing to extract the diagonal elements.\n",
        ""
      ],
      "metadata": {
        "id": "I4nNoW5r8Mg5"
      }
    },
    {
      "cell_type": "code",
      "source": [
        "arr=np.arange(10,51)\n",
        "arr1=np.random.random((3,3))\n",
        "print(arr)\n",
        "print(arr1)\n",
        "#1.Array Attributes\n",
        "print(arr.shape)\n",
        "print(arr.size)\n",
        "print(arr.dtype)\n",
        "#2.Basic opeartions\n",
        "arr+=5\n",
        "print(arr)\n",
        "m1=np.array([[1,2,3],[5,6,7]])\n",
        "m2=np.array([[4,6,5],[8,2,7]])\n",
        "print(m1*m2)\n",
        "#3.indexing and slicing\n",
        "arr2=np.arange(1,26)\n",
        "arr3=arr2.reshape(5,5)\n",
        "print(arr3)\n",
        "print(arr3[0,:])\n",
        "print(arr3[:,-1])\n",
        "print(arr3[0:3,0:2])\n",
        "#4.Aggregation\n",
        "arr4=np.random.randint(10,100,10)\n",
        "print(arr4)\n",
        "print(max(arr4))\n",
        "print(min(arr4))\n",
        "print(np.mean(arr4))\n",
        "print(np.std(arr4))\n",
        "#5.Reshaping\n",
        "arr5=np.arange(1,13)\n",
        "arr6=arr5.reshape(3,4)\n",
        "print(arr6)\n",
        "#6.Broadcasting\n",
        "arr7=np.ones((3,3))\n",
        "a=np.array([1,2,3])\n",
        "print(arr7+a)\n",
        "#7.filtering\n",
        "arr8=np.random.randint(1,50,15)\n",
        "arr8_f=arr8[arr8%5==0]\n",
        "print(arr8_f)\n",
        "#8.matrix multiplication\n",
        "mat3=np.array([[1,2],[3,4]])\n",
        "mat4=np.array([[5,6],[7,8]])\n",
        "result=np.dot(mat3,mat4)\n",
        "print(result)\n",
        "#advanced indexing\n",
        "arr9=np.array([[1,2,3,4],[5,6,7,8],[9,10,11,12],[13,14,15,16]])\n",
        "print(arr9)\n",
        "diagnols=arr9[np.arange(4),np.arange(4)]\n",
        "print(diagnols)\n",
        "\n",
        "\n"
      ],
      "metadata": {
        "colab": {
          "base_uri": "https://localhost:8080/"
        },
        "id": "2KLG_7S-8W4z",
        "outputId": "4686e468-8880-4d4a-a87f-8165635d7916"
      },
      "execution_count": 88,
      "outputs": [
        {
          "output_type": "stream",
          "name": "stdout",
          "text": [
            "[10 11 12 13 14 15 16 17 18 19 20 21 22 23 24 25 26 27 28 29 30 31 32 33\n",
            " 34 35 36 37 38 39 40 41 42 43 44 45 46 47 48 49 50]\n",
            "[[0.51470192 0.38080752 0.64167627]\n",
            " [0.34804622 0.03811027 0.58952629]\n",
            " [0.77220787 0.19779706 0.19948385]]\n",
            "(41,)\n",
            "41\n",
            "int64\n",
            "[15 16 17 18 19 20 21 22 23 24 25 26 27 28 29 30 31 32 33 34 35 36 37 38\n",
            " 39 40 41 42 43 44 45 46 47 48 49 50 51 52 53 54 55]\n",
            "[[ 4 12 15]\n",
            " [40 12 49]]\n",
            "[[ 1  2  3  4  5]\n",
            " [ 6  7  8  9 10]\n",
            " [11 12 13 14 15]\n",
            " [16 17 18 19 20]\n",
            " [21 22 23 24 25]]\n",
            "[1 2 3 4 5]\n",
            "[ 5 10 15 20 25]\n",
            "[[ 1  2]\n",
            " [ 6  7]\n",
            " [11 12]]\n",
            "[77 88 94 60 11 47 12 89 68 42]\n",
            "94\n",
            "11\n",
            "58.8\n",
            "28.84024965217881\n",
            "[[ 1  2  3  4]\n",
            " [ 5  6  7  8]\n",
            " [ 9 10 11 12]]\n",
            "[[2. 3. 4.]\n",
            " [2. 3. 4.]\n",
            " [2. 3. 4.]]\n",
            "[5]\n",
            "[[19 22]\n",
            " [43 50]]\n",
            "[[ 1  2  3  4]\n",
            " [ 5  6  7  8]\n",
            " [ 9 10 11 12]\n",
            " [13 14 15 16]]\n",
            "[ 1  6 11 16]\n"
          ]
        }
      ]
    },
    {
      "cell_type": "code",
      "source": [],
      "metadata": {
        "id": "L67v5OFN88BF"
      },
      "execution_count": null,
      "outputs": []
    }
  ]
}